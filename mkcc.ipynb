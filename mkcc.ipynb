{
 "cells": [
  {
   "cell_type": "code",
   "execution_count": null,
   "metadata": {},
   "outputs": [],
   "source": [
    "fileName = 'honey.mp4'"
   ]
  },
  {
   "cell_type": "code",
   "execution_count": null,
   "metadata": {},
   "outputs": [],
   "source": [
    "import requests\n",
    "\n",
    "resp = requests.post(\n",
    "    'https://openapi.vito.ai/v1/authenticate',\n",
    "    data={'client_id': '본인의_아이디',\n",
    "          'client_secret': '본인의_시크릿'}\n",
    ")\n",
    "resp.raise_for_status()\n",
    "# print(resp.json())\n",
    "\n",
    "token = (resp.json()['access_token'])\n",
    "print(token)"
   ]
  },
  {
   "cell_type": "code",
   "execution_count": null,
   "metadata": {},
   "outputs": [],
   "source": [
    "import json\n",
    "import requests\n",
    "\n",
    "config = {\n",
    "  \"diarization\": {\n",
    "    \"use_verification\": False\n",
    "  },\n",
    "  \"use_multi_channel\": False\n",
    "}\n",
    "resp = requests.post(\n",
    "    'https://openapi.vito.ai/v1/transcribe',\n",
    "    headers={'Authorization': 'bearer '+token},\n",
    "    data={'config': json.dumps(config)},\n",
    "    files={'file': open(fileName, 'rb')}\n",
    ")\n",
    "resp.raise_for_status()\n",
    "# print(resp.json())\n",
    "\n",
    "ReqId = resp.json()['id']\n",
    "ReqId"
   ]
  },
  {
   "cell_type": "code",
   "execution_count": null,
   "metadata": {},
   "outputs": [],
   "source": [
    "import requests\n",
    "import time\n",
    "\n",
    "\n",
    "while 'results' not in resp.json() :    \n",
    "\n",
    "    resp = requests.get(\n",
    "        'https://openapi.vito.ai/v1/transcribe/'+ReqId,\n",
    "        headers={'Authorization': 'bearer '+token},\n",
    "    )\n",
    "    resp.raise_for_status()\n",
    "\n",
    "    time.sleep(3)\n",
    "\n",
    "scripts = resp.json()['results']['utterances']\n",
    "print(f\"총 {len(scripts)} 개의 발화가 인식되었습니다\")"
   ]
  },
  {
   "cell_type": "code",
   "execution_count": null,
   "metadata": {},
   "outputs": [],
   "source": [
    "def timeConvert(seconds) :\n",
    "    ms = str(seconds)[-3:]\n",
    "    seconds = int(str(seconds)[:-3])\n",
    "    \n",
    "    if seconds > 3600 :\n",
    "        hours = str(seconds // 3600)\n",
    "        seconds = seconds % 3600\n",
    "    else :\n",
    "        hours = \"00\"\n",
    "\n",
    "    if seconds > 60 :\n",
    "        mins = str(seconds // 60)\n",
    "        seconds = seconds % 60\n",
    "    else :\n",
    "        mins = \"00\"\n",
    "    \n",
    "    seconds = str(seconds)\n",
    "\n",
    "    return hours+\":\"+mins+\":\"+seconds+\",\"+ms"
   ]
  },
  {
   "cell_type": "code",
   "execution_count": null,
   "metadata": {},
   "outputs": [],
   "source": [
    "# SRT 포멧으로 변경\n",
    "\n",
    "srtName = fileName.replace('.mp4', '.srt')\n",
    "with open(srtName, 'w', encoding=\"utf-8\") as f :\n",
    "    for i in range(len(scripts)) :\n",
    "        # 자막 index\n",
    "        f.write(str(i+1))\n",
    "        f.write(\"\\n\")\n",
    "\n",
    "        # 자막 시간\n",
    "        start = timeConvert(scripts[i]['start_at'])\n",
    "        end = timeConvert(scripts[i]['start_at'] + scripts[i]['duration']+100)\n",
    "        \n",
    "        f.write(start+\" --> \"+end)\n",
    "        f.write(\"\\n\")\n",
    "\n",
    "        # 자막 내용\n",
    "        f.write(scripts[i]['msg'])\n",
    "        f.write(\"\\n\")\n",
    "        f.write(\"\\n\")\n",
    "\n",
    "    f.close()"
   ]
  }
 ],
 "metadata": {
  "kernelspec": {
   "display_name": "Python 3.9.7 64-bit",
   "language": "python",
   "name": "python3"
  },
  "language_info": {
   "codemirror_mode": {
    "name": "ipython",
    "version": 3
   },
   "file_extension": ".py",
   "mimetype": "text/x-python",
   "name": "python",
   "nbconvert_exporter": "python",
   "pygments_lexer": "ipython3",
   "version": "3.9.7"
  },
  "orig_nbformat": 4,
  "vscode": {
   "interpreter": {
    "hash": "67f1dc6f6f712f7142079021955b91e049abb319dcfdc9eed010dd73dd4d845d"
   }
  }
 },
 "nbformat": 4,
 "nbformat_minor": 2
}
